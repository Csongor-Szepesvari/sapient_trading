{
  "cells": [
    {
      "cell_type": "markdown",
      "metadata": {},
      "source": [
        "# Trading Strategy Evaluation Report\n",
        "\n",
        "This notebook provides a basic evaluation report for the trading strategy, leveraging metrics calculated by `eval/metrics.py` and experiment tracking via MLflow. It visualizes the equity curve and displays key performance indicators.\n"
      ]
    },
    {
      "cell_type": "code",
      "execution_count": null,
      "metadata": {},
      "outputs": [],
      "source": [
        "import pandas as pd\n",
        "import matplotlib.pyplot as plt\n",
        "import mlflow\n",
        "from mlflow.entities import ViewType\n",
        "import os\n",
        "\n",
        "# Set MLflow tracking URI (if not already set via environment variable)\n",
        "# mlflow.set_tracking_uri(\"http://localhost:5000\") # Uncomment if you have a local MLflow server\n",
        "\n",
        "# Find the latest successful MLflow run that logged an equity_curve.csv artifact\n",
        "runs = mlflow.search_runs(\n",
        "    order_by=[\"start_time DESC\"],\n",
        "    max_results=1,\n",
        "    filter_string=\"metrics.total_return IS NOT NULL AND attributes.status = 'FINISHED'\"\n",
        ")\n",
        "\n",
        "if not runs.empty:\n",
        "    latest_run_id = runs.iloc[0].run_id\n",
        "    print(f\"Found latest MLflow run: {latest_run_id}\")\n",
        "\n",
        "    # Download the equity curve artifact\n",
        "    try:\n",
        "        client = mlflow.tracking.MlflowClient()\n",
        "        client.download_artifacts(run_id=latest_run_id, path=\"equity_curve.csv\", dst_path=\".\")\n",
        "        equity_curve_path = \"equity_curve.csv\"\n",
        "        \n",
        "        if os.path.exists(equity_curve_path):\n",
        "            df_equity_curve = pd.read_csv(equity_curve_path)\n",
        "            df_equity_curve['Date'] = pd.to_datetime(df_equity_curve['Date'])\n",
        "            print(\"Equity curve loaded successfully:\")\n",
        "            print(df_equity_curve.head())\n",
        "        else:\n",
        "            df_equity_curve = pd.DataFrame()\n",
        "            print(f\"Equity curve artifact not found at {equity_curve_path}\")\n",
        "\n",
        "    except Exception as e:\n",
        "        df_equity_curve = pd.DataFrame()\n",
        "        print(f\"Error downloading or loading equity curve artifact: {e}\")\n",
        "else:\n",
        "    df_equity_curve = pd.DataFrame()\n",
        "    print(\"No MLflow runs found with logged metrics and status 'FINISHED'.\")\n",
        "\n",
        "# Display logged metrics (if a run was found)\n",
        "if not runs.empty:\n",
        "    print(\"\\nLogged Metrics:\")\n",
        "    metrics = runs.iloc[0][['metrics.total_return', 'metrics.sharpe_ratio', 'metrics.max_drawdown', 'metrics.annualized_volatility']].to_dict()\n",
        "    for k, v in metrics.items():\n",
        "        print(f\"  {k.replace('metrics.', '').replace('_', ' ').title()}: {v:.4f}\")\n"
      ]
    },
    {
      "cell_type": "code",
      "execution_count": null,
      "metadata": {},
      "outputs": [],
      "source": [
        "if not df_equity_curve.empty:\n",
        "    plt.figure(figsize=(12, 6))\n",
        "    plt.plot(df_equity_curve['Date'], df_equity_curve['PortfolioValue'], label='Portfolio Value')\n",
        "    plt.title('Equity Curve')\n",
        "    plt.xlabel('Date')\n",
        "    plt.ylabel('Portfolio Value')\n",
        "    plt.grid(True)\n",
        "    plt.legend()\n",
        "    plt.show()\n",
        "else:\n",
        "    print(\"Cannot plot equity curve: DataFrame is empty.\")\n"
      ]
    }
  ],
  "metadata": {
    "language_info": {
      "name": "python"
    }
  },
  "nbformat": 4,
  "nbformat_minor": 2
}
